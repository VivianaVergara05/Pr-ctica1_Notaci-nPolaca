{
  "nbformat": 4,
  "nbformat_minor": 0,
  "metadata": {
    "colab": {
      "provenance": []
    },
    "kernelspec": {
      "name": "python3",
      "display_name": "Python 3"
    },
    "language_info": {
      "name": "python"
    }
  },
  "cells": [
    {
      "cell_type": "code",
      "execution_count": null,
      "metadata": {
        "id": "A9dLI9l8Ps-D"
      },
      "outputs": [],
      "source": [
        "# Para que el código funcione se esta asumiendo que al ingresar la entrada solo\n",
        "# se utilicen operadores, numeros y paréntesis de la manera adecuada en forma de\n",
        "# operación matemática (pues se esta asumiendo que es una operacion matemática),\n",
        "# de igual manera se pide que cada termino( operadores, numeros, o parénteis)\n",
        "# este espaciado por un espacio.\n",
        "\n",
        "operadores = [\"+\", \"-\", \"*\", \"**\", \"/\"] # lista de operadores validos\n",
        "jerarquias = {  # jerarquia de operaciones\n",
        "   1:[\"+\",\"-\"],\n",
        "   2:[\"*\",\"/\"],\n",
        "   3:[\"**\"],\n",
        "   4:[\"(\", \")\"]\n",
        "}\n",
        "\n",
        "entrada = input(\"Ingrese una expresión: \") # pedimos se ingrese la expresión\n",
        "# matemática\n",
        "operacion = entrada.split() # dada la expresion, se separa cada uno de los\n",
        "# terminos de la operación\n",
        "print(operacion)\n",
        "pila = [] # donde almacenaremos datos\n",
        "salida = [] # la expresion final\n",
        "def obtener_jerarquia(operadores):\n",
        "    \"\"\"Define una función para obtener la jerarquía del operador.\"\"\"\n",
        "    for key in jerarquias.items():\n",
        "        if c in key[1]:\n",
        "            return key[0]\n",
        "    return 0 # si no aparece el operador\n",
        "\n",
        "\n",
        "if __name__ == '__main__':\n",
        "    for c in operacion:\n",
        "        if c.isnumeric() : # verificar si el termino es un numero\n",
        "            salida.append(c) # si el termino es un numero se agrega a la salida\n",
        "        elif c in operadores: # si c no es un numero verifica si es un operador\n",
        "            while pila and pila[-1] != \"(\" and obtener_jerarquia(c) <= obtener_jerarquia(pila[-1]):\n",
        "                salida.append(pila.pop()) # verifica la jerarquía del operador y\n",
        "# del ultimo añadido a la pila y si es de menor jerarquia el ultimo de la pila\n",
        "# este se añade a la salida\n",
        "            pila.append(c) # el operador se añade a la pila\n",
        "        elif c == \"(\":\n",
        "            pila.append(c)\n",
        "        elif c == \")\":\n",
        "            while pila and pila[-1] != \"(\": # verificar la pila no este vacia\n",
        "                salida.append(pila.pop())\n",
        "            if pila:\n",
        "                pila.pop() # eliminar el par de paréntesis\n",
        "# vaciar la pila de operadores restantes y añadirlos a la salida\n",
        "while len(pila) > 0:\n",
        "    salida.append(pila.pop())\n",
        "\n",
        "print(salida) # se imprimira la operación inicial dada y la salida en forma\n",
        "# polaca inversa"
      ]
    },
    {
      "cell_type": "code",
      "source": [],
      "metadata": {
        "id": "LhBIuwRbzeZc"
      },
      "execution_count": null,
      "outputs": []
    }
  ]
}